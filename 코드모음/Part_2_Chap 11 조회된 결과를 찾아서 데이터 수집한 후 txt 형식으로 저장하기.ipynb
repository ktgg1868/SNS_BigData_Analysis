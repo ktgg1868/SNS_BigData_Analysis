{
 "cells": [
  {
   "cell_type": "code",
   "execution_count": 1,
   "metadata": {},
   "outputs": [
    {
     "name": "stderr",
     "output_type": "stream",
     "text": [
      "C:\\Users\\1868\\AppData\\Local\\Temp\\ipykernel_9524\\2796529521.py:13: DeprecationWarning: executable_path has been deprecated, please pass in a Service object\n",
      "  driver = webdriver.Chrome(path)\n"
     ]
    }
   ],
   "source": [
    "#Step 1. 필요한 모듈과 라이브러리를 로딩하고 검색어를 입력 받습니다\n",
    "from bs4 import BeautifulSoup     \n",
    "from selenium import webdriver\n",
    "from selenium.webdriver.common.by import By\n",
    "import time\n",
    "import sys\n",
    "\n",
    "query_txt = input('크롤링할 키워드는 무엇입니까?: ')\n",
    "f_name = input('검색 결과를 저장할 파일경로와 이름을 지정하세요(예:c:\\\\data\\\\test.txt): ')\n",
    "\n",
    "#Step 2. 크롬 드라이버를 사용해서 웹 브라우저를 실행합니다.\n",
    "path = \"c:/temp/chromedriver_240/chromedriver.exe\"\n",
    "driver = webdriver.Chrome(path)\n",
    "driver.get(\"https://korean.visitkorea.or.kr/main/main.do#home\")\n",
    "time.sleep(2)  #  창이 모두 열릴 때 까지 2초 기다립니다."
   ]
  },
  {
   "cell_type": "code",
   "execution_count": 2,
   "metadata": {},
   "outputs": [],
   "source": [
    "#코로나 얼럿창 있을 경우 닫기 클릭하기 \n",
    "\n",
    "# driver.find_element_by_xpath('//*[@id=\"safetyStay1\"]/div/button').click()\n",
    "       \n",
    "#Step 3. 검색창의 이름을 찾아서 검색어를 입력하고 검색을 실행합니다\n",
    "driver.find_element(By.CSS_SELECTOR,\"#inp_search\").click()\n",
    "element = driver.find_element(By.CSS_SELECTOR,\"#inp_search\")\n",
    "element.send_keys(query_txt)\n",
    "\n",
    "driver.find_element(By.LINK_TEXT,\"검색\").click()"
   ]
  },
  {
   "cell_type": "code",
   "execution_count": 3,
   "metadata": {},
   "outputs": [
    {
     "name": "stdout",
     "output_type": "stream",
     "text": [
      "구황작물 고구마의 이유 있는 변신, 영바이브   부산 영도구    #이색체험#체험관광지#가족과함께#아이와함께#먹거리#특산물#커피#디저트#체험프로그램#관광두레#관광두레기사#부산#영도#영바이브#부울_관광두레 더보기  즐겨찾기 공유하기\n",
      "\n",
      "\n",
      "내 위치에서4.2 Km     2023 제50회 부산 어린이날 큰잔치   부산 해운대구    #어린이날#부산#영화의전당#어린이#가족과함께#가볼만한곳#해운대구#공연/행사 더보기  즐겨찾기 공유하기 코스에 담기\n",
      "\n",
      "\n",
      "부산 도심에서 가장 빨리 기장의 바다를 만나는 동해선   부산    #부산#동해선#수영사적공원#국립부산과학관#죽성드림성당#기장죽성리왜성#기장죽성리해송#대변항장승등대#대변항#일광해수욕장#송도구름산책로#송도해상케이블카#황령산#바다#일몰#추천가볼만한곳#부산가볼만한곳#부산당일코스#부산1박2일코스#지하철여행#추천가볼만한곳#2018년3월추천가볼만한곳#겨울기차여행#2월가볼만한곳#바다풍경여행 더보기  즐겨찾기 공유하기\n",
      "\n",
      "\n",
      "붉게 물든 노을이 아름다운, 부산 일몰 명소   부산    #누리마루전망대#동백섬#장림포구#다대포#아미산전망대#황령산#황령산봉수대#부산가볼만한곳#일몰명소#속시원한_바다여행 더보기  즐겨찾기 공유하기\n",
      "\n",
      "\n",
      "\n",
      "\n",
      "\n",
      "[문화가 있는 날] 추천 문화공간, 부산 이색 데이트 코스   부산    #이색데이트#데이트코스#연인과함께#뮤지엄다#본다빈치스퀘어부산#페인트투나잇#도시농가코페도코#원데이클래스#11월가볼만한곳#데이트명소 더보기  즐겨찾기 공유하기\n",
      "\n",
      "\n",
      "'바다도시' 부산에서 건진 맛   부산    #부산가볼만한곳#부산맛집#부산물회#향토음식점#부산국제시장#팥빙수골목#민락동횟집촌#자갈치시장#깃발집#미청식당#중앙시장#대성수산#골목분식#오복미역#덕천고가#주문진막국수#한국관광100선#17_18한국관광100선#경상권#부산#국제시장 더보기  즐겨찾기 공유하기\n",
      "\n",
      "\n",
      "다시 만난 부산   부산    #부산1박2일#아홉산숲#바다여행#카페여행#공공누리#뉴트로_감성여행 더보기  즐겨찾기 공유하기\n",
      "\n",
      "\n",
      "매력적인 공간으로의 여행! #부산   부산    #부산가볼만한곳#겨울여행#부산차이나타운#차이나타운#망양로산복도로#초량이바구길#동백섬#호천마을#부평깡통야시장#깡통시장#로맨틱_무드_낭낭 더보기  즐겨찾기 공유하기\n",
      "\n",
      "\n",
      "나 혼자 간다! 부산 혼행 꿀팁 대방출   부산    #부산#부산당일코스#부산여행코스#혼자여행#초량이바구길#차이나타운#부산차이나타운#흰여울문화마을#절영해안산책로#청학배수지전망대#신발원#평산옥#부산가볼만한곳#혼행족의_성지#공공누리#밤도깨비여행 더보기  즐겨찾기 공유하기\n",
      "\n",
      "\n",
      "부산의 과거와 현재가 만나는 곳, 산복도로   부산    #부산#산복도로#유치환우체통#이바구공작소#168계단모노레일#백제병원#감천문화마을#아미동비석문화마을#최민식갤러리#누리바라기#자갈치시장#국제시장#송도해상케이블카#여행#가족#바다#추천가볼만한곳#부산가볼만한곳#부산당일코스#부산1박2일코스#부산축제#2017년10월추천가볼만한곳 더보기  즐겨찾기 공유하기\n",
      "\n",
      "\n"
     ]
    }
   ],
   "source": [
    "# 학습목표 1: 텍스트를 추출하여 화면에 출력하기\n",
    "# Step 4. 현재 페이지에 있는 내용을 화면에 출력하기\n",
    "\n",
    "time.sleep(1)\n",
    "\n",
    "full_html = driver.page_source\n",
    "\n",
    "soup = BeautifulSoup(full_html, 'html.parser')\n",
    "\n",
    "content_list = soup.find('ul','list_thumType type1')\n",
    "\n",
    "for i in content_list:\n",
    "    print(i.text.strip())\n",
    "    print(\"\\n\")\n"
   ]
  },
  {
   "cell_type": "code",
   "execution_count": 4,
   "metadata": {},
   "outputs": [
    {
     "name": "stdout",
     "output_type": "stream",
     "text": [
      " 요청하신 데이터 수집 작업이 정상적으로 완료되었습니다\n"
     ]
    }
   ],
   "source": [
    " \n",
    "# 학습목표 2: 텍스트를 추출하여 txt 형식으로 저장하기\n",
    "# Step 5. 현재 페이지에 있는 내용을 txt 형식으로 파일에 저장하기\n",
    "orig_stdout = sys.stdout\n",
    "f = open(f_name , 'a' , encoding='UTF-8')\n",
    "sys.stdout = f\n",
    "time.sleep(1)\n",
    "\n",
    "html = driver.page_source\n",
    "soup = BeautifulSoup(html, 'html.parser')\n",
    "content_list = soup.find('ul',class_='list_thumType type1')\n",
    "\n",
    "for i in content_list:\n",
    "    print(i.text.strip())\n",
    "    print(\"\\n\")\n",
    "    \n",
    "sys.stdout = orig_stdout\n",
    "f.close()\n",
    "\n",
    "print(\" 요청하신 데이터 수집 작업이 정상적으로 완료되었습니다\")"
   ]
  },
  {
   "cell_type": "code",
   "execution_count": null,
   "metadata": {},
   "outputs": [],
   "source": []
  }
 ],
 "metadata": {
  "kernelspec": {
   "display_name": "Python 3",
   "language": "python",
   "name": "python3"
  },
  "language_info": {
   "codemirror_mode": {
    "name": "ipython",
    "version": 3
   },
   "file_extension": ".py",
   "mimetype": "text/x-python",
   "name": "python",
   "nbconvert_exporter": "python",
   "pygments_lexer": "ipython3",
   "version": "3.10.8"
  }
 },
 "nbformat": 4,
 "nbformat_minor": 2
}
